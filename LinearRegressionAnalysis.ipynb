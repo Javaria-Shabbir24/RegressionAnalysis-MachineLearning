{
 "cells": [
  {
   "cell_type": "code",
   "execution_count": 6,
   "id": "49d347bf-d0a3-4384-9d3f-683a001b8202",
   "metadata": {},
   "outputs": [],
   "source": [
    "import pandas as pd"
   ]
  },
  {
   "cell_type": "code",
   "execution_count": 7,
   "id": "e20beac2-ba49-427f-8c46-739d2ad1f184",
   "metadata": {},
   "outputs": [],
   "source": [
    "dataset=pd.read_excel(\"D:\\Study\\Machine Learning\\RegressionAnalysis\\dataset1.xlsx\")"
   ]
  },
  {
   "cell_type": "code",
   "execution_count": 8,
   "id": "6977e4a1-da4c-402f-9274-a48098677742",
   "metadata": {},
   "outputs": [
    {
     "data": {
      "text/plain": [
       "cgpa       1\n",
       "package    2\n",
       "dtype: int64"
      ]
     },
     "execution_count": 8,
     "metadata": {},
     "output_type": "execute_result"
    }
   ],
   "source": [
    "dataset.isnull().sum()"
   ]
  },
  {
   "cell_type": "code",
   "execution_count": 9,
   "id": "2de5b5af-99f3-45c7-b705-9c4d0f850f86",
   "metadata": {},
   "outputs": [],
   "source": [
    "dataset=dataset.dropna()"
   ]
  },
  {
   "cell_type": "code",
   "execution_count": 10,
   "id": "9855e473-bee7-44ca-afad-91827d933534",
   "metadata": {},
   "outputs": [
    {
     "data": {
      "text/plain": [
       "cgpa       0\n",
       "package    0\n",
       "dtype: int64"
      ]
     },
     "execution_count": 10,
     "metadata": {},
     "output_type": "execute_result"
    }
   ],
   "source": [
    "dataset.isnull().sum()"
   ]
  },
  {
   "cell_type": "code",
   "execution_count": 11,
   "id": "bbe5e3b2-662d-4790-84c7-de7a5f54b4bf",
   "metadata": {},
   "outputs": [
    {
     "data": {
      "text/html": [
       "<div>\n",
       "<style scoped>\n",
       "    .dataframe tbody tr th:only-of-type {\n",
       "        vertical-align: middle;\n",
       "    }\n",
       "\n",
       "    .dataframe tbody tr th {\n",
       "        vertical-align: top;\n",
       "    }\n",
       "\n",
       "    .dataframe thead th {\n",
       "        text-align: right;\n",
       "    }\n",
       "</style>\n",
       "<table border=\"1\" class=\"dataframe\">\n",
       "  <thead>\n",
       "    <tr style=\"text-align: right;\">\n",
       "      <th></th>\n",
       "      <th>cgpa</th>\n",
       "      <th>package</th>\n",
       "    </tr>\n",
       "  </thead>\n",
       "  <tbody>\n",
       "    <tr>\n",
       "      <th>0</th>\n",
       "      <td>9.587189</td>\n",
       "      <td>2.279613</td>\n",
       "    </tr>\n",
       "    <tr>\n",
       "      <th>2</th>\n",
       "      <td>2.629136</td>\n",
       "      <td>2.516431</td>\n",
       "    </tr>\n",
       "    <tr>\n",
       "      <th>3</th>\n",
       "      <td>5.672983</td>\n",
       "      <td>3.724183</td>\n",
       "    </tr>\n",
       "    <tr>\n",
       "      <th>4</th>\n",
       "      <td>2.711945</td>\n",
       "      <td>2.378670</td>\n",
       "    </tr>\n",
       "    <tr>\n",
       "      <th>5</th>\n",
       "      <td>7.471080</td>\n",
       "      <td>1.543608</td>\n",
       "    </tr>\n",
       "    <tr>\n",
       "      <th>...</th>\n",
       "      <td>...</td>\n",
       "      <td>...</td>\n",
       "    </tr>\n",
       "    <tr>\n",
       "      <th>239</th>\n",
       "      <td>5.122658</td>\n",
       "      <td>2.482203</td>\n",
       "    </tr>\n",
       "    <tr>\n",
       "      <th>240</th>\n",
       "      <td>8.098780</td>\n",
       "      <td>1.883865</td>\n",
       "    </tr>\n",
       "    <tr>\n",
       "      <th>241</th>\n",
       "      <td>9.818010</td>\n",
       "      <td>1.386489</td>\n",
       "    </tr>\n",
       "    <tr>\n",
       "      <th>242</th>\n",
       "      <td>5.302599</td>\n",
       "      <td>3.475083</td>\n",
       "    </tr>\n",
       "    <tr>\n",
       "      <th>243</th>\n",
       "      <td>3.248329</td>\n",
       "      <td>2.552302</td>\n",
       "    </tr>\n",
       "  </tbody>\n",
       "</table>\n",
       "<p>243 rows × 2 columns</p>\n",
       "</div>"
      ],
      "text/plain": [
       "         cgpa   package\n",
       "0    9.587189  2.279613\n",
       "2    2.629136  2.516431\n",
       "3    5.672983  3.724183\n",
       "4    2.711945  2.378670\n",
       "5    7.471080  1.543608\n",
       "..        ...       ...\n",
       "239  5.122658  2.482203\n",
       "240  8.098780  1.883865\n",
       "241  9.818010  1.386489\n",
       "242  5.302599  3.475083\n",
       "243  3.248329  2.552302\n",
       "\n",
       "[243 rows x 2 columns]"
      ]
     },
     "execution_count": 11,
     "metadata": {},
     "output_type": "execute_result"
    }
   ],
   "source": [
    "dataset"
   ]
  },
  {
   "cell_type": "markdown",
   "id": "e7189866-b9bb-4871-a842-6948bac74a29",
   "metadata": {},
   "source": [
    "# x is the independent var and y is the dependent variable"
   ]
  },
  {
   "cell_type": "code",
   "execution_count": 12,
   "id": "f7863301-5afa-4108-ad31-497c44f5b7db",
   "metadata": {},
   "outputs": [],
   "source": [
    "x= dataset[\"cgpa\"]"
   ]
  },
  {
   "cell_type": "code",
   "execution_count": 13,
   "id": "4b718746-0fd4-478d-84fd-18a358ad64d4",
   "metadata": {},
   "outputs": [
    {
     "data": {
      "text/plain": [
       "0      9.587189\n",
       "2      2.629136\n",
       "3      5.672983\n",
       "4      2.711945\n",
       "5      7.471080\n",
       "         ...   \n",
       "239    5.122658\n",
       "240    8.098780\n",
       "241    9.818010\n",
       "242    5.302599\n",
       "243    3.248329\n",
       "Name: cgpa, Length: 243, dtype: float64"
      ]
     },
     "execution_count": 13,
     "metadata": {},
     "output_type": "execute_result"
    }
   ],
   "source": [
    "x"
   ]
  },
  {
   "cell_type": "code",
   "execution_count": 14,
   "id": "676ef70a-2902-4e08-ae92-6aad5d78a968",
   "metadata": {},
   "outputs": [],
   "source": [
    "y=dataset[\"package\"]"
   ]
  },
  {
   "cell_type": "code",
   "execution_count": 15,
   "id": "83178d3f-08cf-4f2c-bc34-d2cfcc5c5382",
   "metadata": {},
   "outputs": [
    {
     "data": {
      "text/plain": [
       "0      2.279613\n",
       "2      2.516431\n",
       "3      3.724183\n",
       "4      2.378670\n",
       "5      1.543608\n",
       "         ...   \n",
       "239    2.482203\n",
       "240    1.883865\n",
       "241    1.386489\n",
       "242    3.475083\n",
       "243    2.552302\n",
       "Name: package, Length: 243, dtype: float64"
      ]
     },
     "execution_count": 15,
     "metadata": {},
     "output_type": "execute_result"
    }
   ],
   "source": [
    "y"
   ]
  },
  {
   "cell_type": "code",
   "execution_count": 16,
   "id": "a45d6ed2-5c2f-4185-a448-3498cdf609e2",
   "metadata": {},
   "outputs": [
    {
     "data": {
      "text/plain": [
       "1"
      ]
     },
     "execution_count": 16,
     "metadata": {},
     "output_type": "execute_result"
    }
   ],
   "source": [
    "x.ndim"
   ]
  },
  {
   "cell_type": "markdown",
   "id": "abfb4d4c-deae-4506-8735-04bae89e4834",
   "metadata": {},
   "source": [
    "## x data should be 2-D and y data is 1-D"
   ]
  },
  {
   "cell_type": "code",
   "execution_count": 17,
   "id": "67fe1f3c-c96b-4e6a-8037-1272d9726764",
   "metadata": {},
   "outputs": [],
   "source": [
    "x= dataset[[\"cgpa\"]]"
   ]
  },
  {
   "cell_type": "code",
   "execution_count": 18,
   "id": "50151827-d3b8-43d3-abaf-9ede5a6a8707",
   "metadata": {},
   "outputs": [
    {
     "data": {
      "text/plain": [
       "2"
      ]
     },
     "execution_count": 18,
     "metadata": {},
     "output_type": "execute_result"
    }
   ],
   "source": [
    "x.ndim"
   ]
  },
  {
   "cell_type": "code",
   "execution_count": 19,
   "id": "ea77ce32-63b4-4c9d-9afb-92df0412de78",
   "metadata": {},
   "outputs": [],
   "source": [
    "import seaborn as sns\n",
    "import matplotlib.pyplot as plt"
   ]
  },
  {
   "cell_type": "code",
   "execution_count": 22,
   "id": "3d3c53f0-4582-4b54-9336-3a7ece1b5c32",
   "metadata": {},
   "outputs": [
    {
     "data": {
      "image/png": "[encoded data removed]",
      "text/plain": [
       "<Figure size 400x500 with 1 Axes>"
      ]
     },
     "metadata": {},
     "output_type": "display_data"
    }
   ],
   "source": [
    "plt.figure(figsize=(4,5))\n",
    "sns.scatterplot(x=\"cgpa\",y=\"package\", data=dataset)\n",
    "plt.show()"
   ]
  },
  {
   "cell_type": "code",
   "execution_count": null,
   "id": "de4e8ed3-86cd-444c-bbe4-faf29a0ffdfd",
   "metadata": {},
   "outputs": [],
   "source": []
  }
 ],
 "metadata": {
  "kernelspec": {
   "display_name": "Python 3 (ipykernel)",
   "language": "python",
   "name": "python3"
  },
  "language_info": {
   "codemirror_mode": {
    "name": "ipython",
    "version": 3
   },
   "file_extension": ".py",
   "mimetype": "text/x-python",
   "name": "python",
   "nbconvert_exporter": "python",
   "pygments_lexer": "ipython3",
   "version": "3.11.4"
  }
 },
 "nbformat": 4,
 "nbformat_minor": 5
}
